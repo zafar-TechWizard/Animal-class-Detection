{
 "cells": [
  {
   "cell_type": "markdown",
   "metadata": {},
   "source": [
    "# Load data and pre-process"
   ]
  },
  {
   "cell_type": "code",
   "execution_count": 1,
   "metadata": {},
   "outputs": [],
   "source": [
    "import numpy as np\n",
    "import cv2\n",
    "import os"
   ]
  },
  {
   "cell_type": "code",
   "execution_count": 6,
   "metadata": {},
   "outputs": [],
   "source": [
    "\n",
    "\n",
    "train_path = \"data/Training Data/Training Data\"\n",
    "test_path = \"data/Testing Data/Testing Data\"\n",
    "val_path = \"data/Validation Data/Validation Data\"\n",
    "\n",
    "\n",
    "\n"
   ]
  },
  {
   "cell_type": "code",
   "execution_count": 3,
   "metadata": {},
   "outputs": [
    {
     "data": {
      "text/plain": [
       "['Beetle',\n",
       " 'Butterfly',\n",
       " 'Cat',\n",
       " 'Cow',\n",
       " 'Dog',\n",
       " 'Elephant',\n",
       " 'Gorilla',\n",
       " 'Hippo',\n",
       " 'Lizard',\n",
       " 'Monkey',\n",
       " 'Mouse',\n",
       " 'Panda',\n",
       " 'Spider',\n",
       " 'Tiger',\n",
       " 'Zebra']"
      ]
     },
     "execution_count": 3,
     "metadata": {},
     "output_type": "execute_result"
    }
   ],
   "source": [
    "# animal_folders"
   ]
  },
  {
   "cell_type": "code",
   "execution_count": 4,
   "metadata": {},
   "outputs": [
    {
     "name": "stdout",
     "output_type": "stream",
     "text": [
      "Loading images of Beetle...\n",
      "Loading images of Butterfly...\n",
      "Loading images of Cat...\n",
      "Loading images of Cow...\n",
      "Loading images of Dog...\n",
      "Loading images of Elephant...\n",
      "Loading images of Gorilla...\n",
      "Loading images of Hippo...\n",
      "Loading images of Lizard...\n",
      "Loading images of Monkey...\n",
      "Loading images of Mouse...\n",
      "Loading images of Panda...\n",
      "Loading images of Spider...\n",
      "Loading images of Tiger...\n",
      "Loading images of Zebra...\n"
     ]
    }
   ],
   "source": [
    "# for animal_type in animal_folders:\n",
    "#     animal_folder_path = os.path.join(data_path, animal_type)\n",
    "#     print(f\"Loading images of {animal_type}...\")\n",
    "\n",
    "#     image_files = os.listdir(animal_folder_path)\n",
    "\n",
    "#     for image_file in image_files:\n",
    "#         if image_file.lower().endswith(('.jpg', '.jpeg', '.png')):\n",
    "#             image_path = os.path.join(animal_folder_path, image_file)\n",
    "            \n",
    "#             try:\n",
    "#                 img = cv2.imread(image_path)\n",
    "#                 if img is None:\n",
    "#                     print(f\"Couldn't read image: {image_path}\")\n",
    "#                     continue\n",
    "\n",
    "#                 # images to(200x200 pixels)\n",
    "#                 img = cv2.resize(img, (200, 200))\n",
    "#                 images.append(img)\n",
    "#                 labels.append(animal_type)\n",
    "                \n",
    "#             except Exception as e:\n",
    "#                 print(f\"Error processing {image_path}: {str(e)}\")\n"
   ]
  },
  {
   "cell_type": "code",
   "execution_count": 5,
   "metadata": {},
   "outputs": [],
   "source": [
    "# images = np.array(images)\n",
    "# labels = np.array(labels)"
   ]
  },
  {
   "cell_type": "code",
   "execution_count": 6,
   "metadata": {},
   "outputs": [
    {
     "name": "stdout",
     "output_type": "stream",
     "text": [
      "Dataset Information:\n",
      "Number of images: 30000\n",
      "Image shape: (200, 200, 3)\n",
      "\n",
      "Number of images per animal:\n",
      "Beetle: 2000 images\n",
      "Gorilla: 2000 images\n",
      "Mouse: 2000 images\n",
      "Cat: 2000 images\n",
      "Lizard: 2000 images\n",
      "Monkey: 2000 images\n",
      "Cow: 2000 images\n",
      "Panda: 2000 images\n",
      "Spider: 2000 images\n",
      "Tiger: 2000 images\n",
      "Elephant: 2000 images\n",
      "Zebra: 2000 images\n",
      "Butterfly: 2000 images\n",
      "Hippo: 2000 images\n",
      "Dog: 2000 images\n"
     ]
    }
   ],
   "source": [
    "# # Let's see what our data looks like\n",
    "# print(\"Dataset Information:\")\n",
    "# print(f\"Number of images: {len(images)}\")\n",
    "# print(f\"Image shape: {images[0].shape}\")\n",
    "# print(\"\\nNumber of images per animal:\")\n",
    "# for animal in set(labels):\n",
    "#     count = len(labels[labels == animal])\n",
    "#     print(f\"{animal}: {count} images\")\n"
   ]
  },
  {
   "cell_type": "code",
   "execution_count": null,
   "metadata": {},
   "outputs": [],
   "source": []
  },
  {
   "cell_type": "code",
   "execution_count": null,
   "metadata": {},
   "outputs": [],
   "source": []
  },
  {
   "cell_type": "code",
   "execution_count": 8,
   "metadata": {},
   "outputs": [],
   "source": [
    "def load_data(data_path):\n",
    "    images = []\n",
    "    labels = []\n",
    "    \n",
    "\n",
    "    animal_folders = os.listdir(data_path)\n",
    "    \n",
    "    print(f\"\\nProcessing images from: {data_path}\")\n",
    "    for animal_type in animal_folders:\n",
    "        animal_folder_path = os.path.join(data_path, animal_type)\n",
    "        \n",
    "\n",
    "            \n",
    "        print(f\"Loading images of {animal_type}...\")\n",
    "        image_files = os.listdir(animal_folder_path)\n",
    "        \n",
    "        for image_file in image_files:\n",
    "            if image_file.lower().endswith(('.jpg', '.jpeg', '.png')):\n",
    "                image_path = os.path.join(animal_folder_path, image_file)\n",
    "                \n",
    "                try:\n",
    "                    \n",
    "                    img = cv2.imread(image_path)\n",
    "                    if img is None:\n",
    "                        continue\n",
    "                    \n",
    "                    # Resize to 200x200 pixels\n",
    "                    img = cv2.resize(img, (200, 200))\n",
    "                    images.append(img)\n",
    "                    labels.append(animal_type)\n",
    "                    \n",
    "                except Exception as e:\n",
    "                    print(f\"Error processing {image_path}: {str(e)}\")\n",
    "    \n",
    "    return np.array(images), np.array(labels)\n"
   ]
  },
  {
   "cell_type": "code",
   "execution_count": 9,
   "metadata": {},
   "outputs": [
    {
     "name": "stdout",
     "output_type": "stream",
     "text": [
      "\n",
      "Processing images from: data/Training Data/Training Data\n",
      "Loading images of Beetle...\n",
      "Loading images of Butterfly...\n",
      "Loading images of Cat...\n",
      "Loading images of Cow...\n",
      "Loading images of Dog...\n",
      "Loading images of Elephant...\n",
      "Loading images of Gorilla...\n",
      "Loading images of Hippo...\n",
      "Loading images of Lizard...\n",
      "Loading images of Monkey...\n",
      "Loading images of Mouse...\n",
      "Loading images of Panda...\n",
      "Loading images of Spider...\n",
      "Loading images of Tiger...\n",
      "Loading images of Zebra...\n",
      "\n",
      "Processing images from: data/Validation Data/Validation Data\n",
      "Loading images of Beetle...\n",
      "Loading images of Butterfly...\n",
      "Loading images of Cat...\n",
      "Loading images of Cow...\n",
      "Loading images of Dog...\n",
      "Loading images of Elephant...\n",
      "Loading images of Gorilla...\n",
      "Loading images of Hippo...\n",
      "Loading images of Lizard...\n",
      "Loading images of Monkey...\n",
      "Loading images of Mouse...\n",
      "Loading images of Panda...\n",
      "Loading images of Spider...\n",
      "Loading images of Tiger...\n",
      "Loading images of Zebra...\n"
     ]
    }
   ],
   "source": [
    "train_images, train_labels = load_data(train_path)\n",
    "\n",
    "\n",
    "val_images, val_labels = load_data(val_path)\n",
    "\n"
   ]
  },
  {
   "cell_type": "code",
   "execution_count": 11,
   "metadata": {},
   "outputs": [
    {
     "data": {
      "text/plain": [
       "30000"
      ]
     },
     "execution_count": 11,
     "metadata": {},
     "output_type": "execute_result"
    }
   ],
   "source": [
    "len(train_images)"
   ]
  },
  {
   "cell_type": "code",
   "execution_count": 10,
   "metadata": {},
   "outputs": [
    {
     "name": "stdout",
     "output_type": "stream",
     "text": [
      "\n",
      "Processing images from: data/Testing Data/Testing Data\n",
      "Loading images of Beetle...\n",
      "Loading images of Butterfly...\n",
      "Loading images of Cat...\n",
      "Loading images of Cow...\n",
      "Loading images of Dog...\n",
      "Loading images of Elephant...\n",
      "Loading images of Gorilla...\n",
      "Loading images of Hippo...\n",
      "Loading images of Lizard...\n",
      "Loading images of Monkey...\n",
      "Loading images of Mouse...\n",
      "Loading images of Panda...\n",
      "Loading images of Spider...\n",
      "Loading images of Tiger...\n",
      "Loading images of Zebra...\n"
     ]
    }
   ],
   "source": [
    "test_images, test_labels = load_data(test_path)"
   ]
  },
  {
   "cell_type": "code",
   "execution_count": null,
   "metadata": {},
   "outputs": [],
   "source": []
  },
  {
   "cell_type": "markdown",
   "metadata": {},
   "source": [
    "#  features"
   ]
  },
  {
   "cell_type": "markdown",
   "metadata": {},
   "source": []
  },
  {
   "cell_type": "code",
   "execution_count": 2,
   "metadata": {},
   "outputs": [],
   "source": [
    "from skimage.feature import hog, local_binary_pattern\n",
    "from scipy.stats import skew, kurtosis"
   ]
  },
  {
   "cell_type": "code",
   "execution_count": 2,
   "metadata": {},
   "outputs": [],
   "source": [
    "def extract_features(image):\n",
    "    \n",
    "    features = []\n",
    "    \n",
    "    # different color\n",
    "    gray = cv2.cvtColor(image, cv2.COLOR_BGR2GRAY)\n",
    "    hsv = cv2.cvtColor(image, cv2.COLOR_BGR2HSV)\n",
    "    \n",
    "    # HOG Features\n",
    "    hog_features = hog(gray, orientations=9, pixels_per_cell=(8, 8),\n",
    "                      cells_per_block=(2, 2), visualize=False)\n",
    "    features.extend(hog_features)\n",
    "    \n",
    "    # LBP Features\n",
    "    radius = 3\n",
    "    n_points = 8 * radius\n",
    "    lbp = local_binary_pattern(gray, n_points, radius, method='uniform')\n",
    "    lbp_hist, _ = np.histogram(lbp, bins=n_points + 2, range=(0, n_points + 2))\n",
    "    lbp_hist = lbp_hist.astype(\"float\") / (lbp_hist.sum() + 1e-7)\n",
    "    features.extend(lbp_hist)\n",
    "    \n",
    "    # Color Moments\n",
    "    for color_space in [image, hsv]:\n",
    "        for channel in range(3):\n",
    "            channel_data = color_space[:, :, channel].flatten()\n",
    "            \n",
    "            # Mean and Std\n",
    "            features.append(np.mean(channel_data))\n",
    "            features.append(np.std(channel_data))\n",
    "            \n",
    "            # Skewness and Kurtosis\n",
    "            features.append(skew(channel_data))\n",
    "            features.append(kurtosis(channel_data))\n",
    "    \n",
    "    # Color Correlogram\n",
    "    for channel in range(3):\n",
    "        \n",
    "        channel_data = image[:, :, channel]\n",
    "        shifted_right = np.roll(channel_data, 1, axis=1)\n",
    "        shifted_down = np.roll(channel_data, 1, axis=0)\n",
    "        correlation_horizontal = np.mean(channel_data[:, :-1] == shifted_right[:, :-1])\n",
    "        correlation_vertical = np.mean(channel_data[:-1, :] == shifted_down[:-1, :])\n",
    "        features.extend([correlation_horizontal, correlation_vertical])\n",
    "    \n",
    "    # Haralick Texture\n",
    "    distances = [1, 2, 3]\n",
    "    angles = [0, np.pi/4, np.pi/2, 3*np.pi/4]\n",
    "    for distance in distances:\n",
    "        glcm = np.zeros((16, 16))\n",
    "        gray_scaled = (gray / 16).astype(int)\n",
    "        for i in range(gray_scaled.shape[0]):\n",
    "            for j in range(gray_scaled.shape[1]-distance):\n",
    "                glcm[gray_scaled[i, j], gray_scaled[i, j+distance]] += 1\n",
    "        \n",
    "        glcm_norm = glcm / (glcm.sum() + 1e-7)\n",
    "        features.append(np.sum(np.square(np.arange(16) - np.arange(16).reshape(-1, 1)) * glcm_norm))\n",
    "        features.append(np.sum(glcm_norm / (1 + np.square(np.arange(16) - np.arange(16).reshape(-1, 1)))))\n",
    "        features.append(np.sum(np.square(glcm_norm)))\n",
    "    \n",
    "    return np.array(features)\n",
    "\n",
    "\n"
   ]
  },
  {
   "cell_type": "code",
   "execution_count": 6,
   "metadata": {},
   "outputs": [],
   "source": [
    "def extract_dataset_features(images, dataset_name):\n",
    "    features = []\n",
    "    print(f\"\\nExtracting features for {dataset_name} dataset...\")\n",
    "    \n",
    "    for idx, img in enumerate(images):\n",
    "        if idx % 100 == 0:\n",
    "            print(f\"Processing image {idx}/{len(images)}\")\n",
    "        feature_vector = extract_features(img)\n",
    "        features.append(feature_vector)\n",
    "    \n",
    "    return np.array(features)"
   ]
  },
  {
   "cell_type": "code",
   "execution_count": 8,
   "metadata": {},
   "outputs": [],
   "source": []
  },
  {
   "cell_type": "code",
   "execution_count": 14,
   "metadata": {},
   "outputs": [
    {
     "name": "stdout",
     "output_type": "stream",
     "text": [
      "\n",
      "Extracting features for training dataset...\n",
      "Processing image 0/30000\n",
      "Processing image 100/30000\n",
      "Processing image 200/30000\n",
      "Processing image 300/30000\n",
      "Processing image 400/30000\n",
      "Processing image 500/30000\n",
      "Processing image 600/30000\n",
      "Processing image 700/30000\n",
      "Processing image 800/30000\n",
      "Processing image 900/30000\n",
      "Processing image 1000/30000\n",
      "Processing image 1100/30000\n",
      "Processing image 1200/30000\n",
      "Processing image 1300/30000\n",
      "Processing image 1400/30000\n",
      "Processing image 1500/30000\n",
      "Processing image 1600/30000\n",
      "Processing image 1700/30000\n",
      "Processing image 1800/30000\n",
      "Processing image 1900/30000\n",
      "Processing image 2000/30000\n",
      "Processing image 2100/30000\n",
      "Processing image 2200/30000\n",
      "Processing image 2300/30000\n",
      "Processing image 2400/30000\n",
      "Processing image 2500/30000\n",
      "Processing image 2600/30000\n",
      "Processing image 2700/30000\n",
      "Processing image 2800/30000\n",
      "Processing image 2900/30000\n",
      "Processing image 3000/30000\n",
      "Processing image 3100/30000\n",
      "Processing image 3200/30000\n",
      "Processing image 3300/30000\n",
      "Processing image 3400/30000\n",
      "Processing image 3500/30000\n",
      "Processing image 3600/30000\n",
      "Processing image 3700/30000\n",
      "Processing image 3800/30000\n",
      "Processing image 3900/30000\n",
      "Processing image 4000/30000\n",
      "Processing image 4100/30000\n",
      "Processing image 4200/30000\n",
      "Processing image 4300/30000\n",
      "Processing image 4400/30000\n",
      "Processing image 4500/30000\n",
      "Processing image 4600/30000\n",
      "Processing image 4700/30000\n",
      "Processing image 4800/30000\n",
      "Processing image 4900/30000\n",
      "Processing image 5000/30000\n",
      "Processing image 5100/30000\n",
      "Processing image 5200/30000\n",
      "Processing image 5300/30000\n",
      "Processing image 5400/30000\n",
      "Processing image 5500/30000\n",
      "Processing image 5600/30000\n",
      "Processing image 5700/30000\n",
      "Processing image 5800/30000\n",
      "Processing image 5900/30000\n",
      "Processing image 6000/30000\n",
      "Processing image 6100/30000\n",
      "Processing image 6200/30000\n",
      "Processing image 6300/30000\n",
      "Processing image 6400/30000\n",
      "Processing image 6500/30000\n",
      "Processing image 6600/30000\n",
      "Processing image 6700/30000\n",
      "Processing image 6800/30000\n",
      "Processing image 6900/30000\n",
      "Processing image 7000/30000\n",
      "Processing image 7100/30000\n",
      "Processing image 7200/30000\n",
      "Processing image 7300/30000\n",
      "Processing image 7400/30000\n",
      "Processing image 7500/30000\n",
      "Processing image 7600/30000\n",
      "Processing image 7700/30000\n",
      "Processing image 7800/30000\n",
      "Processing image 7900/30000\n",
      "Processing image 8000/30000\n",
      "Processing image 8100/30000\n",
      "Processing image 8200/30000\n",
      "Processing image 8300/30000\n",
      "Processing image 8400/30000\n",
      "Processing image 8500/30000\n",
      "Processing image 8600/30000\n",
      "Processing image 8700/30000\n",
      "Processing image 8800/30000\n",
      "Processing image 8900/30000\n",
      "Processing image 9000/30000\n",
      "Processing image 9100/30000\n",
      "Processing image 9200/30000\n",
      "Processing image 9300/30000\n",
      "Processing image 9400/30000\n",
      "Processing image 9500/30000\n",
      "Processing image 9600/30000\n",
      "Processing image 9700/30000\n",
      "Processing image 9800/30000\n",
      "Processing image 9900/30000\n",
      "Processing image 10000/30000\n",
      "Processing image 10100/30000\n",
      "Processing image 10200/30000\n",
      "Processing image 10300/30000\n",
      "Processing image 10400/30000\n",
      "Processing image 10500/30000\n",
      "Processing image 10600/30000\n",
      "Processing image 10700/30000\n",
      "Processing image 10800/30000\n",
      "Processing image 10900/30000\n",
      "Processing image 11000/30000\n",
      "Processing image 11100/30000\n",
      "Processing image 11200/30000\n",
      "Processing image 11300/30000\n",
      "Processing image 11400/30000\n",
      "Processing image 11500/30000\n",
      "Processing image 11600/30000\n",
      "Processing image 11700/30000\n",
      "Processing image 11800/30000\n",
      "Processing image 11900/30000\n",
      "Processing image 12000/30000\n",
      "Processing image 12100/30000\n",
      "Processing image 12200/30000\n",
      "Processing image 12300/30000\n",
      "Processing image 12400/30000\n",
      "Processing image 12500/30000\n",
      "Processing image 12600/30000\n",
      "Processing image 12700/30000\n",
      "Processing image 12800/30000\n",
      "Processing image 12900/30000\n",
      "Processing image 13000/30000\n",
      "Processing image 13100/30000\n",
      "Processing image 13200/30000\n",
      "Processing image 13300/30000\n",
      "Processing image 13400/30000\n",
      "Processing image 13500/30000\n",
      "Processing image 13600/30000\n",
      "Processing image 13700/30000\n",
      "Processing image 13800/30000\n",
      "Processing image 13900/30000\n",
      "Processing image 14000/30000\n",
      "Processing image 14100/30000\n",
      "Processing image 14200/30000\n",
      "Processing image 14300/30000\n",
      "Processing image 14400/30000\n",
      "Processing image 14500/30000\n",
      "Processing image 14600/30000\n",
      "Processing image 14700/30000\n",
      "Processing image 14800/30000\n",
      "Processing image 14900/30000\n",
      "Processing image 15000/30000\n",
      "Processing image 15100/30000\n",
      "Processing image 15200/30000\n",
      "Processing image 15300/30000\n",
      "Processing image 15400/30000\n",
      "Processing image 15500/30000\n",
      "Processing image 15600/30000\n",
      "Processing image 15700/30000\n",
      "Processing image 15800/30000\n",
      "Processing image 15900/30000\n",
      "Processing image 16000/30000\n",
      "Processing image 16100/30000\n",
      "Processing image 16200/30000\n",
      "Processing image 16300/30000\n",
      "Processing image 16400/30000\n",
      "Processing image 16500/30000\n",
      "Processing image 16600/30000\n",
      "Processing image 16700/30000\n",
      "Processing image 16800/30000\n",
      "Processing image 16900/30000\n",
      "Processing image 17000/30000\n",
      "Processing image 17100/30000\n",
      "Processing image 17200/30000\n",
      "Processing image 17300/30000\n",
      "Processing image 17400/30000\n",
      "Processing image 17500/30000\n",
      "Processing image 17600/30000\n",
      "Processing image 17700/30000\n",
      "Processing image 17800/30000\n",
      "Processing image 17900/30000\n",
      "Processing image 18000/30000\n",
      "Processing image 18100/30000\n",
      "Processing image 18200/30000\n",
      "Processing image 18300/30000\n",
      "Processing image 18400/30000\n",
      "Processing image 18500/30000\n",
      "Processing image 18600/30000\n",
      "Processing image 18700/30000\n",
      "Processing image 18800/30000\n",
      "Processing image 18900/30000\n",
      "Processing image 19000/30000\n",
      "Processing image 19100/30000\n",
      "Processing image 19200/30000\n",
      "Processing image 19300/30000\n",
      "Processing image 19400/30000\n",
      "Processing image 19500/30000\n",
      "Processing image 19600/30000\n",
      "Processing image 19700/30000\n",
      "Processing image 19800/30000\n",
      "Processing image 19900/30000\n",
      "Processing image 20000/30000\n",
      "Processing image 20100/30000\n",
      "Processing image 20200/30000\n",
      "Processing image 20300/30000\n",
      "Processing image 20400/30000\n",
      "Processing image 20500/30000\n",
      "Processing image 20600/30000\n",
      "Processing image 20700/30000\n",
      "Processing image 20800/30000\n",
      "Processing image 20900/30000\n",
      "Processing image 21000/30000\n",
      "Processing image 21100/30000\n",
      "Processing image 21200/30000\n",
      "Processing image 21300/30000\n",
      "Processing image 21400/30000\n",
      "Processing image 21500/30000\n",
      "Processing image 21600/30000\n",
      "Processing image 21700/30000\n",
      "Processing image 21800/30000\n",
      "Processing image 21900/30000\n",
      "Processing image 22000/30000\n",
      "Processing image 22100/30000\n",
      "Processing image 22200/30000\n",
      "Processing image 22300/30000\n",
      "Processing image 22400/30000\n",
      "Processing image 22500/30000\n",
      "Processing image 22600/30000\n",
      "Processing image 22700/30000\n",
      "Processing image 22800/30000\n",
      "Processing image 22900/30000\n",
      "Processing image 23000/30000\n",
      "Processing image 23100/30000\n",
      "Processing image 23200/30000\n",
      "Processing image 23300/30000\n",
      "Processing image 23400/30000\n",
      "Processing image 23500/30000\n",
      "Processing image 23600/30000\n",
      "Processing image 23700/30000\n",
      "Processing image 23800/30000\n",
      "Processing image 23900/30000\n",
      "Processing image 24000/30000\n",
      "Processing image 24100/30000\n",
      "Processing image 24200/30000\n",
      "Processing image 24300/30000\n",
      "Processing image 24400/30000\n",
      "Processing image 24500/30000\n",
      "Processing image 24600/30000\n",
      "Processing image 24700/30000\n",
      "Processing image 24800/30000\n",
      "Processing image 24900/30000\n",
      "Processing image 25000/30000\n",
      "Processing image 25100/30000\n",
      "Processing image 25200/30000\n",
      "Processing image 25300/30000\n",
      "Processing image 25400/30000\n",
      "Processing image 25500/30000\n",
      "Processing image 25600/30000\n",
      "Processing image 25700/30000\n",
      "Processing image 25800/30000\n",
      "Processing image 25900/30000\n",
      "Processing image 26000/30000\n",
      "Processing image 26100/30000\n",
      "Processing image 26200/30000\n",
      "Processing image 26300/30000\n",
      "Processing image 26400/30000\n",
      "Processing image 26500/30000\n",
      "Processing image 26600/30000\n",
      "Processing image 26700/30000\n",
      "Processing image 26800/30000\n",
      "Processing image 26900/30000\n",
      "Processing image 27000/30000\n",
      "Processing image 27100/30000\n",
      "Processing image 27200/30000\n",
      "Processing image 27300/30000\n",
      "Processing image 27400/30000\n",
      "Processing image 27500/30000\n",
      "Processing image 27600/30000\n",
      "Processing image 27700/30000\n",
      "Processing image 27800/30000\n",
      "Processing image 27900/30000\n",
      "Processing image 28000/30000\n",
      "Processing image 28100/30000\n",
      "Processing image 28200/30000\n",
      "Processing image 28300/30000\n",
      "Processing image 28400/30000\n",
      "Processing image 28500/30000\n",
      "Processing image 28600/30000\n",
      "Processing image 28700/30000\n",
      "Processing image 28800/30000\n",
      "Processing image 28900/30000\n",
      "Processing image 29000/30000\n",
      "Processing image 29100/30000\n",
      "Processing image 29200/30000\n",
      "Processing image 29300/30000\n",
      "Processing image 29400/30000\n",
      "Processing image 29500/30000\n",
      "Processing image 29600/30000\n",
      "Processing image 29700/30000\n",
      "Processing image 29800/30000\n",
      "Processing image 29900/30000\n",
      "\n",
      "Extracting features for validation dataset...\n",
      "Processing image 0/2000\n",
      "Processing image 100/2000\n",
      "Processing image 200/2000\n",
      "Processing image 300/2000\n",
      "Processing image 400/2000\n",
      "Processing image 500/2000\n",
      "Processing image 600/2000\n",
      "Processing image 700/2000\n",
      "Processing image 800/2000\n",
      "Processing image 900/2000\n",
      "Processing image 1000/2000\n",
      "Processing image 1100/2000\n",
      "Processing image 1200/2000\n",
      "Processing image 1300/2000\n",
      "Processing image 1400/2000\n",
      "Processing image 1500/2000\n",
      "Processing image 1600/2000\n",
      "Processing image 1700/2000\n",
      "Processing image 1800/2000\n",
      "Processing image 1900/2000\n",
      "\n",
      "Extracting features for testing dataset...\n",
      "Processing image 0/2407\n",
      "Processing image 100/2407\n",
      "Processing image 200/2407\n",
      "Processing image 300/2407\n",
      "Processing image 400/2407\n",
      "Processing image 500/2407\n",
      "Processing image 600/2407\n",
      "Processing image 700/2407\n",
      "Processing image 800/2407\n",
      "Processing image 900/2407\n",
      "Processing image 1000/2407\n",
      "Processing image 1100/2407\n",
      "Processing image 1200/2407\n",
      "Processing image 1300/2407\n",
      "Processing image 1400/2407\n",
      "Processing image 1500/2407\n",
      "Processing image 1600/2407\n",
      "Processing image 1700/2407\n",
      "Processing image 1800/2407\n",
      "Processing image 1900/2407\n",
      "Processing image 2000/2407\n",
      "Processing image 2100/2407\n",
      "Processing image 2200/2407\n",
      "Processing image 2300/2407\n",
      "Processing image 2400/2407\n",
      "\n",
      "Feature extraction complete!\n",
      "Training features shape: (30000, 20801)\n",
      "Validation features shape: (2000, 20801)\n",
      "Testing features shape: (2407, 20801)\n",
      "Number of features per image: 20801\n"
     ]
    }
   ],
   "source": [
    "\n",
    "\n",
    "# Extract features for all datasets\n",
    "train_features = extract_dataset_features(train_images, \"training\")\n",
    "val_features = extract_dataset_features(val_images, \"validation\")\n",
    "test_features = extract_dataset_features(test_images, \"testing\")\n",
    "\n",
    "# Save features to avoid recomputing\n",
    "np.save('train_features.npy', train_features)\n",
    "np.save('val_features.npy', val_features)\n",
    "np.save('test_features.npy', test_features)\n",
    "\n",
    "print(\"\\nFeature extraction complete!\")\n",
    "print(f\"Training features shape: {train_features.shape}\")\n",
    "print(f\"Validation features shape: {val_features.shape}\")\n",
    "print(f\"Testing features shape: {test_features.shape}\")\n",
    "print(f\"Number of features per image: {train_features.shape[1]}\")\n"
   ]
  },
  {
   "cell_type": "code",
   "execution_count": null,
   "metadata": {},
   "outputs": [],
   "source": []
  },
  {
   "cell_type": "code",
   "execution_count": 3,
   "metadata": {},
   "outputs": [],
   "source": [
    "from sklearn.preprocessing import LabelEncoder\n",
    "from sklearn.ensemble import RandomForestClassifier\n",
    "from sklearn.metrics import accuracy_score, classification_report"
   ]
  },
  {
   "cell_type": "code",
   "execution_count": 4,
   "metadata": {},
   "outputs": [],
   "source": [
    "# text labels to numbers \n",
    "label_encoder = LabelEncoder()\n"
   ]
  },
  {
   "cell_type": "code",
   "execution_count": 11,
   "metadata": {},
   "outputs": [],
   "source": [
    "train_labels_encoded = label_encoder.fit_transform(train_labels) #encoder on training lables, stablish the classes "
   ]
  },
  {
   "cell_type": "code",
   "execution_count": null,
   "metadata": {},
   "outputs": [],
   "source": [
    "\n",
    "val_labels_encoded = label_encoder.transform(val_labels)\n",
    "test_labels_encoded = label_encoder.transform(test_labels)"
   ]
  },
  {
   "cell_type": "markdown",
   "metadata": {},
   "source": [
    "# -Random Forest model"
   ]
  },
  {
   "cell_type": "code",
   "execution_count": 15,
   "metadata": {},
   "outputs": [],
   "source": [
    "rf_model = RandomForestClassifier(\n",
    "    n_estimators=120,\n",
    "    n_jobs=-1,\n",
    "    random_state=42\n",
    ")"
   ]
  },
  {
   "cell_type": "code",
   "execution_count": 21,
   "metadata": {},
   "outputs": [
    {
     "ename": "ValueError",
     "evalue": "Input X contains NaN.\nRandomForestClassifier does not accept missing values encoded as NaN natively. For supervised learning, you might want to consider sklearn.ensemble.HistGradientBoostingClassifier and Regressor which accept missing values encoded as NaNs natively. Alternatively, it is possible to preprocess the data, for instance by using an imputer transformer in a pipeline or drop samples with missing values. See https://scikit-learn.org/stable/modules/impute.html You can find a list of all estimators that handle NaN values at the following page: https://scikit-learn.org/stable/modules/impute.html#estimators-that-handle-nan-values",
     "output_type": "error",
     "traceback": [
      "\u001b[1;31m---------------------------------------------------------------------------\u001b[0m",
      "\u001b[1;31mValueError\u001b[0m                                Traceback (most recent call last)",
      "Cell \u001b[1;32mIn[21], line 1\u001b[0m\n\u001b[1;32m----> 1\u001b[0m \u001b[43mrf_model\u001b[49m\u001b[38;5;241;43m.\u001b[39;49m\u001b[43mfit\u001b[49m\u001b[43m(\u001b[49m\u001b[43mtrain_features\u001b[49m\u001b[43m,\u001b[49m\u001b[43m \u001b[49m\u001b[43mtrain_labels_encoded\u001b[49m\u001b[43m)\u001b[49m\n",
      "File \u001b[1;32mc:\\Python3.11\\Lib\\site-packages\\sklearn\\base.py:1152\u001b[0m, in \u001b[0;36m_fit_context.<locals>.decorator.<locals>.wrapper\u001b[1;34m(estimator, *args, **kwargs)\u001b[0m\n\u001b[0;32m   1145\u001b[0m     estimator\u001b[38;5;241m.\u001b[39m_validate_params()\n\u001b[0;32m   1147\u001b[0m \u001b[38;5;28;01mwith\u001b[39;00m config_context(\n\u001b[0;32m   1148\u001b[0m     skip_parameter_validation\u001b[38;5;241m=\u001b[39m(\n\u001b[0;32m   1149\u001b[0m         prefer_skip_nested_validation \u001b[38;5;129;01mor\u001b[39;00m global_skip_validation\n\u001b[0;32m   1150\u001b[0m     )\n\u001b[0;32m   1151\u001b[0m ):\n\u001b[1;32m-> 1152\u001b[0m     \u001b[38;5;28;01mreturn\u001b[39;00m \u001b[43mfit_method\u001b[49m\u001b[43m(\u001b[49m\u001b[43mestimator\u001b[49m\u001b[43m,\u001b[49m\u001b[43m \u001b[49m\u001b[38;5;241;43m*\u001b[39;49m\u001b[43margs\u001b[49m\u001b[43m,\u001b[49m\u001b[43m \u001b[49m\u001b[38;5;241;43m*\u001b[39;49m\u001b[38;5;241;43m*\u001b[39;49m\u001b[43mkwargs\u001b[49m\u001b[43m)\u001b[49m\n",
      "File \u001b[1;32mc:\\Python3.11\\Lib\\site-packages\\sklearn\\ensemble\\_forest.py:348\u001b[0m, in \u001b[0;36mBaseForest.fit\u001b[1;34m(self, X, y, sample_weight)\u001b[0m\n\u001b[0;32m    346\u001b[0m \u001b[38;5;28;01mif\u001b[39;00m issparse(y):\n\u001b[0;32m    347\u001b[0m     \u001b[38;5;28;01mraise\u001b[39;00m \u001b[38;5;167;01mValueError\u001b[39;00m(\u001b[38;5;124m\"\u001b[39m\u001b[38;5;124msparse multilabel-indicator for y is not supported.\u001b[39m\u001b[38;5;124m\"\u001b[39m)\n\u001b[1;32m--> 348\u001b[0m X, y \u001b[38;5;241m=\u001b[39m \u001b[38;5;28;43mself\u001b[39;49m\u001b[38;5;241;43m.\u001b[39;49m\u001b[43m_validate_data\u001b[49m\u001b[43m(\u001b[49m\n\u001b[0;32m    349\u001b[0m \u001b[43m    \u001b[49m\u001b[43mX\u001b[49m\u001b[43m,\u001b[49m\u001b[43m \u001b[49m\u001b[43my\u001b[49m\u001b[43m,\u001b[49m\u001b[43m \u001b[49m\u001b[43mmulti_output\u001b[49m\u001b[38;5;241;43m=\u001b[39;49m\u001b[38;5;28;43;01mTrue\u001b[39;49;00m\u001b[43m,\u001b[49m\u001b[43m \u001b[49m\u001b[43maccept_sparse\u001b[49m\u001b[38;5;241;43m=\u001b[39;49m\u001b[38;5;124;43m\"\u001b[39;49m\u001b[38;5;124;43mcsc\u001b[39;49m\u001b[38;5;124;43m\"\u001b[39;49m\u001b[43m,\u001b[49m\u001b[43m \u001b[49m\u001b[43mdtype\u001b[49m\u001b[38;5;241;43m=\u001b[39;49m\u001b[43mDTYPE\u001b[49m\n\u001b[0;32m    350\u001b[0m \u001b[43m\u001b[49m\u001b[43m)\u001b[49m\n\u001b[0;32m    351\u001b[0m \u001b[38;5;28;01mif\u001b[39;00m sample_weight \u001b[38;5;129;01mis\u001b[39;00m \u001b[38;5;129;01mnot\u001b[39;00m \u001b[38;5;28;01mNone\u001b[39;00m:\n\u001b[0;32m    352\u001b[0m     sample_weight \u001b[38;5;241m=\u001b[39m _check_sample_weight(sample_weight, X)\n",
      "File \u001b[1;32mc:\\Python3.11\\Lib\\site-packages\\sklearn\\base.py:622\u001b[0m, in \u001b[0;36mBaseEstimator._validate_data\u001b[1;34m(self, X, y, reset, validate_separately, cast_to_ndarray, **check_params)\u001b[0m\n\u001b[0;32m    620\u001b[0m         y \u001b[38;5;241m=\u001b[39m check_array(y, input_name\u001b[38;5;241m=\u001b[39m\u001b[38;5;124m\"\u001b[39m\u001b[38;5;124my\u001b[39m\u001b[38;5;124m\"\u001b[39m, \u001b[38;5;241m*\u001b[39m\u001b[38;5;241m*\u001b[39mcheck_y_params)\n\u001b[0;32m    621\u001b[0m     \u001b[38;5;28;01melse\u001b[39;00m:\n\u001b[1;32m--> 622\u001b[0m         X, y \u001b[38;5;241m=\u001b[39m \u001b[43mcheck_X_y\u001b[49m\u001b[43m(\u001b[49m\u001b[43mX\u001b[49m\u001b[43m,\u001b[49m\u001b[43m \u001b[49m\u001b[43my\u001b[49m\u001b[43m,\u001b[49m\u001b[43m \u001b[49m\u001b[38;5;241;43m*\u001b[39;49m\u001b[38;5;241;43m*\u001b[39;49m\u001b[43mcheck_params\u001b[49m\u001b[43m)\u001b[49m\n\u001b[0;32m    623\u001b[0m     out \u001b[38;5;241m=\u001b[39m X, y\n\u001b[0;32m    625\u001b[0m \u001b[38;5;28;01mif\u001b[39;00m \u001b[38;5;129;01mnot\u001b[39;00m no_val_X \u001b[38;5;129;01mand\u001b[39;00m check_params\u001b[38;5;241m.\u001b[39mget(\u001b[38;5;124m\"\u001b[39m\u001b[38;5;124mensure_2d\u001b[39m\u001b[38;5;124m\"\u001b[39m, \u001b[38;5;28;01mTrue\u001b[39;00m):\n",
      "File \u001b[1;32mc:\\Python3.11\\Lib\\site-packages\\sklearn\\utils\\validation.py:1146\u001b[0m, in \u001b[0;36mcheck_X_y\u001b[1;34m(X, y, accept_sparse, accept_large_sparse, dtype, order, copy, force_all_finite, ensure_2d, allow_nd, multi_output, ensure_min_samples, ensure_min_features, y_numeric, estimator)\u001b[0m\n\u001b[0;32m   1141\u001b[0m         estimator_name \u001b[38;5;241m=\u001b[39m _check_estimator_name(estimator)\n\u001b[0;32m   1142\u001b[0m     \u001b[38;5;28;01mraise\u001b[39;00m \u001b[38;5;167;01mValueError\u001b[39;00m(\n\u001b[0;32m   1143\u001b[0m         \u001b[38;5;124mf\u001b[39m\u001b[38;5;124m\"\u001b[39m\u001b[38;5;132;01m{\u001b[39;00mestimator_name\u001b[38;5;132;01m}\u001b[39;00m\u001b[38;5;124m requires y to be passed, but the target y is None\u001b[39m\u001b[38;5;124m\"\u001b[39m\n\u001b[0;32m   1144\u001b[0m     )\n\u001b[1;32m-> 1146\u001b[0m X \u001b[38;5;241m=\u001b[39m \u001b[43mcheck_array\u001b[49m\u001b[43m(\u001b[49m\n\u001b[0;32m   1147\u001b[0m \u001b[43m    \u001b[49m\u001b[43mX\u001b[49m\u001b[43m,\u001b[49m\n\u001b[0;32m   1148\u001b[0m \u001b[43m    \u001b[49m\u001b[43maccept_sparse\u001b[49m\u001b[38;5;241;43m=\u001b[39;49m\u001b[43maccept_sparse\u001b[49m\u001b[43m,\u001b[49m\n\u001b[0;32m   1149\u001b[0m \u001b[43m    \u001b[49m\u001b[43maccept_large_sparse\u001b[49m\u001b[38;5;241;43m=\u001b[39;49m\u001b[43maccept_large_sparse\u001b[49m\u001b[43m,\u001b[49m\n\u001b[0;32m   1150\u001b[0m \u001b[43m    \u001b[49m\u001b[43mdtype\u001b[49m\u001b[38;5;241;43m=\u001b[39;49m\u001b[43mdtype\u001b[49m\u001b[43m,\u001b[49m\n\u001b[0;32m   1151\u001b[0m \u001b[43m    \u001b[49m\u001b[43morder\u001b[49m\u001b[38;5;241;43m=\u001b[39;49m\u001b[43morder\u001b[49m\u001b[43m,\u001b[49m\n\u001b[0;32m   1152\u001b[0m \u001b[43m    \u001b[49m\u001b[43mcopy\u001b[49m\u001b[38;5;241;43m=\u001b[39;49m\u001b[43mcopy\u001b[49m\u001b[43m,\u001b[49m\n\u001b[0;32m   1153\u001b[0m \u001b[43m    \u001b[49m\u001b[43mforce_all_finite\u001b[49m\u001b[38;5;241;43m=\u001b[39;49m\u001b[43mforce_all_finite\u001b[49m\u001b[43m,\u001b[49m\n\u001b[0;32m   1154\u001b[0m \u001b[43m    \u001b[49m\u001b[43mensure_2d\u001b[49m\u001b[38;5;241;43m=\u001b[39;49m\u001b[43mensure_2d\u001b[49m\u001b[43m,\u001b[49m\n\u001b[0;32m   1155\u001b[0m \u001b[43m    \u001b[49m\u001b[43mallow_nd\u001b[49m\u001b[38;5;241;43m=\u001b[39;49m\u001b[43mallow_nd\u001b[49m\u001b[43m,\u001b[49m\n\u001b[0;32m   1156\u001b[0m \u001b[43m    \u001b[49m\u001b[43mensure_min_samples\u001b[49m\u001b[38;5;241;43m=\u001b[39;49m\u001b[43mensure_min_samples\u001b[49m\u001b[43m,\u001b[49m\n\u001b[0;32m   1157\u001b[0m \u001b[43m    \u001b[49m\u001b[43mensure_min_features\u001b[49m\u001b[38;5;241;43m=\u001b[39;49m\u001b[43mensure_min_features\u001b[49m\u001b[43m,\u001b[49m\n\u001b[0;32m   1158\u001b[0m \u001b[43m    \u001b[49m\u001b[43mestimator\u001b[49m\u001b[38;5;241;43m=\u001b[39;49m\u001b[43mestimator\u001b[49m\u001b[43m,\u001b[49m\n\u001b[0;32m   1159\u001b[0m \u001b[43m    \u001b[49m\u001b[43minput_name\u001b[49m\u001b[38;5;241;43m=\u001b[39;49m\u001b[38;5;124;43m\"\u001b[39;49m\u001b[38;5;124;43mX\u001b[39;49m\u001b[38;5;124;43m\"\u001b[39;49m\u001b[43m,\u001b[49m\n\u001b[0;32m   1160\u001b[0m \u001b[43m\u001b[49m\u001b[43m)\u001b[49m\n\u001b[0;32m   1162\u001b[0m y \u001b[38;5;241m=\u001b[39m _check_y(y, multi_output\u001b[38;5;241m=\u001b[39mmulti_output, y_numeric\u001b[38;5;241m=\u001b[39my_numeric, estimator\u001b[38;5;241m=\u001b[39mestimator)\n\u001b[0;32m   1164\u001b[0m check_consistent_length(X, y)\n",
      "File \u001b[1;32mc:\\Python3.11\\Lib\\site-packages\\sklearn\\utils\\validation.py:957\u001b[0m, in \u001b[0;36mcheck_array\u001b[1;34m(array, accept_sparse, accept_large_sparse, dtype, order, copy, force_all_finite, ensure_2d, allow_nd, ensure_min_samples, ensure_min_features, estimator, input_name)\u001b[0m\n\u001b[0;32m    951\u001b[0m         \u001b[38;5;28;01mraise\u001b[39;00m \u001b[38;5;167;01mValueError\u001b[39;00m(\n\u001b[0;32m    952\u001b[0m             \u001b[38;5;124m\"\u001b[39m\u001b[38;5;124mFound array with dim \u001b[39m\u001b[38;5;132;01m%d\u001b[39;00m\u001b[38;5;124m. \u001b[39m\u001b[38;5;132;01m%s\u001b[39;00m\u001b[38;5;124m expected <= 2.\u001b[39m\u001b[38;5;124m\"\u001b[39m\n\u001b[0;32m    953\u001b[0m             \u001b[38;5;241m%\u001b[39m (array\u001b[38;5;241m.\u001b[39mndim, estimator_name)\n\u001b[0;32m    954\u001b[0m         )\n\u001b[0;32m    956\u001b[0m     \u001b[38;5;28;01mif\u001b[39;00m force_all_finite:\n\u001b[1;32m--> 957\u001b[0m         \u001b[43m_assert_all_finite\u001b[49m\u001b[43m(\u001b[49m\n\u001b[0;32m    958\u001b[0m \u001b[43m            \u001b[49m\u001b[43marray\u001b[49m\u001b[43m,\u001b[49m\n\u001b[0;32m    959\u001b[0m \u001b[43m            \u001b[49m\u001b[43minput_name\u001b[49m\u001b[38;5;241;43m=\u001b[39;49m\u001b[43minput_name\u001b[49m\u001b[43m,\u001b[49m\n\u001b[0;32m    960\u001b[0m \u001b[43m            \u001b[49m\u001b[43mestimator_name\u001b[49m\u001b[38;5;241;43m=\u001b[39;49m\u001b[43mestimator_name\u001b[49m\u001b[43m,\u001b[49m\n\u001b[0;32m    961\u001b[0m \u001b[43m            \u001b[49m\u001b[43mallow_nan\u001b[49m\u001b[38;5;241;43m=\u001b[39;49m\u001b[43mforce_all_finite\u001b[49m\u001b[43m \u001b[49m\u001b[38;5;241;43m==\u001b[39;49m\u001b[43m \u001b[49m\u001b[38;5;124;43m\"\u001b[39;49m\u001b[38;5;124;43mallow-nan\u001b[39;49m\u001b[38;5;124;43m\"\u001b[39;49m\u001b[43m,\u001b[49m\n\u001b[0;32m    962\u001b[0m \u001b[43m        \u001b[49m\u001b[43m)\u001b[49m\n\u001b[0;32m    964\u001b[0m \u001b[38;5;28;01mif\u001b[39;00m ensure_min_samples \u001b[38;5;241m>\u001b[39m \u001b[38;5;241m0\u001b[39m:\n\u001b[0;32m    965\u001b[0m     n_samples \u001b[38;5;241m=\u001b[39m _num_samples(array)\n",
      "File \u001b[1;32mc:\\Python3.11\\Lib\\site-packages\\sklearn\\utils\\validation.py:122\u001b[0m, in \u001b[0;36m_assert_all_finite\u001b[1;34m(X, allow_nan, msg_dtype, estimator_name, input_name)\u001b[0m\n\u001b[0;32m    119\u001b[0m \u001b[38;5;28;01mif\u001b[39;00m first_pass_isfinite:\n\u001b[0;32m    120\u001b[0m     \u001b[38;5;28;01mreturn\u001b[39;00m\n\u001b[1;32m--> 122\u001b[0m \u001b[43m_assert_all_finite_element_wise\u001b[49m\u001b[43m(\u001b[49m\n\u001b[0;32m    123\u001b[0m \u001b[43m    \u001b[49m\u001b[43mX\u001b[49m\u001b[43m,\u001b[49m\n\u001b[0;32m    124\u001b[0m \u001b[43m    \u001b[49m\u001b[43mxp\u001b[49m\u001b[38;5;241;43m=\u001b[39;49m\u001b[43mxp\u001b[49m\u001b[43m,\u001b[49m\n\u001b[0;32m    125\u001b[0m \u001b[43m    \u001b[49m\u001b[43mallow_nan\u001b[49m\u001b[38;5;241;43m=\u001b[39;49m\u001b[43mallow_nan\u001b[49m\u001b[43m,\u001b[49m\n\u001b[0;32m    126\u001b[0m \u001b[43m    \u001b[49m\u001b[43mmsg_dtype\u001b[49m\u001b[38;5;241;43m=\u001b[39;49m\u001b[43mmsg_dtype\u001b[49m\u001b[43m,\u001b[49m\n\u001b[0;32m    127\u001b[0m \u001b[43m    \u001b[49m\u001b[43mestimator_name\u001b[49m\u001b[38;5;241;43m=\u001b[39;49m\u001b[43mestimator_name\u001b[49m\u001b[43m,\u001b[49m\n\u001b[0;32m    128\u001b[0m \u001b[43m    \u001b[49m\u001b[43minput_name\u001b[49m\u001b[38;5;241;43m=\u001b[39;49m\u001b[43minput_name\u001b[49m\u001b[43m,\u001b[49m\n\u001b[0;32m    129\u001b[0m \u001b[43m\u001b[49m\u001b[43m)\u001b[49m\n",
      "File \u001b[1;32mc:\\Python3.11\\Lib\\site-packages\\sklearn\\utils\\validation.py:171\u001b[0m, in \u001b[0;36m_assert_all_finite_element_wise\u001b[1;34m(X, xp, allow_nan, msg_dtype, estimator_name, input_name)\u001b[0m\n\u001b[0;32m    154\u001b[0m \u001b[38;5;28;01mif\u001b[39;00m estimator_name \u001b[38;5;129;01mand\u001b[39;00m input_name \u001b[38;5;241m==\u001b[39m \u001b[38;5;124m\"\u001b[39m\u001b[38;5;124mX\u001b[39m\u001b[38;5;124m\"\u001b[39m \u001b[38;5;129;01mand\u001b[39;00m has_nan_error:\n\u001b[0;32m    155\u001b[0m     \u001b[38;5;66;03m# Improve the error message on how to handle missing values in\u001b[39;00m\n\u001b[0;32m    156\u001b[0m     \u001b[38;5;66;03m# scikit-learn.\u001b[39;00m\n\u001b[0;32m    157\u001b[0m     msg_err \u001b[38;5;241m+\u001b[39m\u001b[38;5;241m=\u001b[39m (\n\u001b[0;32m    158\u001b[0m         \u001b[38;5;124mf\u001b[39m\u001b[38;5;124m\"\u001b[39m\u001b[38;5;130;01m\\n\u001b[39;00m\u001b[38;5;132;01m{\u001b[39;00mestimator_name\u001b[38;5;132;01m}\u001b[39;00m\u001b[38;5;124m does not accept missing values\u001b[39m\u001b[38;5;124m\"\u001b[39m\n\u001b[0;32m    159\u001b[0m         \u001b[38;5;124m\"\u001b[39m\u001b[38;5;124m encoded as NaN natively. For supervised learning, you might want\u001b[39m\u001b[38;5;124m\"\u001b[39m\n\u001b[1;32m   (...)\u001b[0m\n\u001b[0;32m    169\u001b[0m         \u001b[38;5;124m\"\u001b[39m\u001b[38;5;124m#estimators-that-handle-nan-values\u001b[39m\u001b[38;5;124m\"\u001b[39m\n\u001b[0;32m    170\u001b[0m     )\n\u001b[1;32m--> 171\u001b[0m \u001b[38;5;28;01mraise\u001b[39;00m \u001b[38;5;167;01mValueError\u001b[39;00m(msg_err)\n",
      "\u001b[1;31mValueError\u001b[0m: Input X contains NaN.\nRandomForestClassifier does not accept missing values encoded as NaN natively. For supervised learning, you might want to consider sklearn.ensemble.HistGradientBoostingClassifier and Regressor which accept missing values encoded as NaNs natively. Alternatively, it is possible to preprocess the data, for instance by using an imputer transformer in a pipeline or drop samples with missing values. See https://scikit-learn.org/stable/modules/impute.html You can find a list of all estimators that handle NaN values at the following page: https://scikit-learn.org/stable/modules/impute.html#estimators-that-handle-nan-values"
     ]
    }
   ],
   "source": [
    "rf_model.fit(train_features, train_labels_encoded)"
   ]
  },
  {
   "cell_type": "code",
   "execution_count": 13,
   "metadata": {},
   "outputs": [],
   "source": [
    "train_features = np.load('train_features.npy')\n",
    "val_features = np.load('val_features.npy')\n",
    "test_features = np.load('test_features.npy')"
   ]
  },
  {
   "cell_type": "code",
   "execution_count": 14,
   "metadata": {},
   "outputs": [
    {
     "name": "stdout",
     "output_type": "stream",
     "text": [
      "NaN Analysis:\n",
      "Total NaN values: 1984\n",
      "\n",
      "NaN values per feature:\n",
      "Feature 20776: 496 NaN values\n",
      "Feature 20777: 496 NaN values\n",
      "Feature 20780: 496 NaN values\n",
      "Feature 20781: 496 NaN values\n"
     ]
    }
   ],
   "source": [
    "print(\"NaN Analysis:\")\n",
    "print(f\"Total NaN values: {np.isnan(train_features).sum()}\")\n",
    "print(\"\\nNaN values per feature:\")\n",
    "nan_counts = np.isnan(train_features).sum(axis=0)\n",
    "feature_indices_with_nan = np.where(nan_counts > 0)[0]\n",
    "for idx in feature_indices_with_nan:\n",
    "    print(f\"Feature {idx}: {nan_counts[idx]} NaN values\")"
   ]
  },
  {
   "cell_type": "code",
   "execution_count": 15,
   "metadata": {},
   "outputs": [
    {
     "name": "stdout",
     "output_type": "stream",
     "text": [
      "\n",
      "After fixing:\n",
      "Total NaN values: 0\n"
     ]
    }
   ],
   "source": [
    "train_features = np.nan_to_num(train_features, nan=0.0)\n",
    "val_features = np.nan_to_num(val_features, nan=0.0)\n",
    "test_features = np.nan_to_num(test_features, nan=0.0)\n",
    "\n",
    "print(\"\\nAfter fixing:\")\n",
    "print(f\"Total NaN values: {np.isnan(train_features).sum()}\")"
   ]
  },
  {
   "cell_type": "code",
   "execution_count": 19,
   "metadata": {},
   "outputs": [
    {
     "data": {
      "text/html": [
       "<style>#sk-container-id-1 {color: black;}#sk-container-id-1 pre{padding: 0;}#sk-container-id-1 div.sk-toggleable {background-color: white;}#sk-container-id-1 label.sk-toggleable__label {cursor: pointer;display: block;width: 100%;margin-bottom: 0;padding: 0.3em;box-sizing: border-box;text-align: center;}#sk-container-id-1 label.sk-toggleable__label-arrow:before {content: \"▸\";float: left;margin-right: 0.25em;color: #696969;}#sk-container-id-1 label.sk-toggleable__label-arrow:hover:before {color: black;}#sk-container-id-1 div.sk-estimator:hover label.sk-toggleable__label-arrow:before {color: black;}#sk-container-id-1 div.sk-toggleable__content {max-height: 0;max-width: 0;overflow: hidden;text-align: left;background-color: #f0f8ff;}#sk-container-id-1 div.sk-toggleable__content pre {margin: 0.2em;color: black;border-radius: 0.25em;background-color: #f0f8ff;}#sk-container-id-1 input.sk-toggleable__control:checked~div.sk-toggleable__content {max-height: 200px;max-width: 100%;overflow: auto;}#sk-container-id-1 input.sk-toggleable__control:checked~label.sk-toggleable__label-arrow:before {content: \"▾\";}#sk-container-id-1 div.sk-estimator input.sk-toggleable__control:checked~label.sk-toggleable__label {background-color: #d4ebff;}#sk-container-id-1 div.sk-label input.sk-toggleable__control:checked~label.sk-toggleable__label {background-color: #d4ebff;}#sk-container-id-1 input.sk-hidden--visually {border: 0;clip: rect(1px 1px 1px 1px);clip: rect(1px, 1px, 1px, 1px);height: 1px;margin: -1px;overflow: hidden;padding: 0;position: absolute;width: 1px;}#sk-container-id-1 div.sk-estimator {font-family: monospace;background-color: #f0f8ff;border: 1px dotted black;border-radius: 0.25em;box-sizing: border-box;margin-bottom: 0.5em;}#sk-container-id-1 div.sk-estimator:hover {background-color: #d4ebff;}#sk-container-id-1 div.sk-parallel-item::after {content: \"\";width: 100%;border-bottom: 1px solid gray;flex-grow: 1;}#sk-container-id-1 div.sk-label:hover label.sk-toggleable__label {background-color: #d4ebff;}#sk-container-id-1 div.sk-serial::before {content: \"\";position: absolute;border-left: 1px solid gray;box-sizing: border-box;top: 0;bottom: 0;left: 50%;z-index: 0;}#sk-container-id-1 div.sk-serial {display: flex;flex-direction: column;align-items: center;background-color: white;padding-right: 0.2em;padding-left: 0.2em;position: relative;}#sk-container-id-1 div.sk-item {position: relative;z-index: 1;}#sk-container-id-1 div.sk-parallel {display: flex;align-items: stretch;justify-content: center;background-color: white;position: relative;}#sk-container-id-1 div.sk-item::before, #sk-container-id-1 div.sk-parallel-item::before {content: \"\";position: absolute;border-left: 1px solid gray;box-sizing: border-box;top: 0;bottom: 0;left: 50%;z-index: -1;}#sk-container-id-1 div.sk-parallel-item {display: flex;flex-direction: column;z-index: 1;position: relative;background-color: white;}#sk-container-id-1 div.sk-parallel-item:first-child::after {align-self: flex-end;width: 50%;}#sk-container-id-1 div.sk-parallel-item:last-child::after {align-self: flex-start;width: 50%;}#sk-container-id-1 div.sk-parallel-item:only-child::after {width: 0;}#sk-container-id-1 div.sk-dashed-wrapped {border: 1px dashed gray;margin: 0 0.4em 0.5em 0.4em;box-sizing: border-box;padding-bottom: 0.4em;background-color: white;}#sk-container-id-1 div.sk-label label {font-family: monospace;font-weight: bold;display: inline-block;line-height: 1.2em;}#sk-container-id-1 div.sk-label-container {text-align: center;}#sk-container-id-1 div.sk-container {/* jupyter's `normalize.less` sets `[hidden] { display: none; }` but bootstrap.min.css set `[hidden] { display: none !important; }` so we also need the `!important` here to be able to override the default hidden behavior on the sphinx rendered scikit-learn.org. See: https://github.com/scikit-learn/scikit-learn/issues/21755 */display: inline-block !important;position: relative;}#sk-container-id-1 div.sk-text-repr-fallback {display: none;}</style><div id=\"sk-container-id-1\" class=\"sk-top-container\"><div class=\"sk-text-repr-fallback\"><pre>RandomForestClassifier(n_estimators=120, n_jobs=-1, random_state=42)</pre><b>In a Jupyter environment, please rerun this cell to show the HTML representation or trust the notebook. <br />On GitHub, the HTML representation is unable to render, please try loading this page with nbviewer.org.</b></div><div class=\"sk-container\" hidden><div class=\"sk-item\"><div class=\"sk-estimator sk-toggleable\"><input class=\"sk-toggleable__control sk-hidden--visually\" id=\"sk-estimator-id-1\" type=\"checkbox\" checked><label for=\"sk-estimator-id-1\" class=\"sk-toggleable__label sk-toggleable__label-arrow\">RandomForestClassifier</label><div class=\"sk-toggleable__content\"><pre>RandomForestClassifier(n_estimators=120, n_jobs=-1, random_state=42)</pre></div></div></div></div></div>"
      ],
      "text/plain": [
       "RandomForestClassifier(n_estimators=120, n_jobs=-1, random_state=42)"
      ]
     },
     "execution_count": 19,
     "metadata": {},
     "output_type": "execute_result"
    }
   ],
   "source": [
    "rf_model.fit(train_features, train_labels_encoded)"
   ]
  },
  {
   "cell_type": "markdown",
   "metadata": {},
   "source": [
    "# -predictions on validation set"
   ]
  },
  {
   "cell_type": "code",
   "execution_count": 20,
   "metadata": {},
   "outputs": [
    {
     "name": "stdout",
     "output_type": "stream",
     "text": [
      "\n",
      "Validation Accuracy: 45.80%\n"
     ]
    }
   ],
   "source": [
    "\n",
    "val_predictions = rf_model.predict(val_features)\n",
    "val_accuracy = accuracy_score(val_labels_encoded, val_predictions)\n",
    "print(f\"\\nValidation Accuracy: {val_accuracy*100:.2f}%\")"
   ]
  },
  {
   "cell_type": "code",
   "execution_count": null,
   "metadata": {},
   "outputs": [
    {
     "name": "stdout",
     "output_type": "stream",
     "text": [
      "Test Accuracy: 37.89%\n",
      "\n",
      "Validation Set Classification Report:\n",
      "              precision    recall  f1-score   support\n",
      "\n",
      "      Beetle       0.59      0.38      0.46       200\n",
      "   Butterfly       0.41      0.56      0.47       200\n",
      "         Cat       0.37      0.77      0.50       100\n",
      "         Cow       0.23      0.19      0.21       100\n",
      "         Dog       0.51      0.36      0.42       100\n",
      "    Elephant       0.50      0.62      0.55       100\n",
      "     Gorilla       0.44      0.75      0.56       100\n",
      "       Hippo       0.39      0.64      0.49       100\n",
      "      Lizard       0.49      0.38      0.43       200\n",
      "      Monkey       0.21      0.14      0.17       100\n",
      "       Mouse       0.62      0.44      0.52       200\n",
      "       Panda       0.58      0.41      0.48       100\n",
      "      Spider       0.68      0.49      0.57       200\n",
      "       Tiger       0.35      0.49      0.40       100\n",
      "       Zebra       0.45      0.29      0.35       100\n",
      "\n",
      "    accuracy                           0.46      2000\n",
      "   macro avg       0.46      0.46      0.44      2000\n",
      "weighted avg       0.48      0.46      0.45      2000\n",
      "\n",
      "\n",
      "Test Set Classification Report:\n",
      "              precision    recall  f1-score   support\n",
      "\n",
      "      Beetle       0.46      0.49      0.48       100\n",
      "   Butterfly       0.25      0.55      0.34       100\n",
      "         Cat       0.56      0.35      0.43       394\n",
      "         Cow       0.36      0.37      0.37       177\n",
      "         Dog       0.42      0.48      0.45        88\n",
      "    Elephant       0.60      0.52      0.56       306\n",
      "     Gorilla       0.09      0.43      0.15        30\n",
      "       Hippo       0.17      0.51      0.25        57\n",
      "      Lizard       0.26      0.45      0.33       100\n",
      "      Monkey       0.35      0.24      0.28       184\n",
      "       Mouse       0.10      0.10      0.10       100\n",
      "       Panda       0.66      0.26      0.37       237\n",
      "      Spider       0.21      0.14      0.17       100\n",
      "       Tiger       0.33      0.50      0.40       164\n",
      "       Zebra       0.64      0.38      0.48       270\n",
      "\n",
      "    accuracy                           0.38      2407\n",
      "   macro avg       0.36      0.39      0.34      2407\n",
      "weighted avg       0.46      0.38      0.39      2407\n",
      "\n"
     ]
    }
   ],
   "source": [
    "\n",
    "\n",
    "\n",
    "\n",
    "test_predictions = rf_model.predict(test_features)\n",
    "test_accuracy = accuracy_score(test_labels_encoded, test_predictions)\n",
    "print(f\"Test Accuracy: {test_accuracy*100:.2f}%\")\n",
    "\n",
    "\n",
    "\n",
    "\n",
    "print(\"\\nValidation Set Classification Report:\")\n",
    "print(classification_report(\n",
    "    val_labels_encoded,\n",
    "    val_predictions,\n",
    "    target_names=label_encoder.classes_\n",
    "))\n",
    "\n",
    "\n",
    "print(\"\\nTest Set Classification Report:\")\n",
    "print(classification_report(\n",
    "    test_labels_encoded,\n",
    "    test_predictions,\n",
    "    target_names=label_encoder.classes_\n",
    "))\n"
   ]
  },
  {
   "cell_type": "markdown",
   "metadata": {},
   "source": [
    "# - As the accuracy is too low... moving wioth alternates options..."
   ]
  },
  {
   "cell_type": "code",
   "execution_count": 24,
   "metadata": {},
   "outputs": [
    {
     "data": {
      "image/png": "[encoded data removed]",
      "text/plain": [
       "<Figure size 1000x600 with 1 Axes>"
      ]
     },
     "metadata": {},
     "output_type": "display_data"
    }
   ],
   "source": [
    "import matplotlib.pyplot as plt\n",
    "\n",
    "importances = rf_model.feature_importances_\n",
    "indices = np.argsort(importances)[-50:]  # Top 50 features\n",
    "\n",
    "plt.figure(figsize=(10, 6))\n",
    "plt.title(\"Top 50 Feature Importances\")\n",
    "plt.barh(range(len(indices)), importances[indices], align='center')\n",
    "plt.xlabel(\"Relative Importance\")\n",
    "plt.ylabel(\"Feature Index\")\n",
    "plt.yticks(range(len(indices)), indices)\n",
    "plt.tight_layout()\n",
    "plt.show()\n"
   ]
  },
  {
   "cell_type": "code",
   "execution_count": 17,
   "metadata": {},
   "outputs": [],
   "source": [
    "from sklearn.feature_selection import VarianceThreshold\n",
    "from sklearn.decomposition import PCA\n",
    "from sklearn.preprocessing import StandardScaler"
   ]
  },
  {
   "cell_type": "code",
   "execution_count": 18,
   "metadata": {},
   "outputs": [],
   "source": [
    "# Removing low variance featuras\n",
    "selector = VarianceThreshold(threshold=0.01)\n",
    "train_var = selector.fit_transform(train_features)\n",
    "val_var = selector.transform(val_features)\n",
    "test_var = selector.transform(test_features)"
   ]
  },
  {
   "cell_type": "code",
   "execution_count": 19,
   "metadata": {},
   "outputs": [
    {
     "data": {
      "text/plain": [
       "(30000, 13467)"
      ]
     },
     "execution_count": 19,
     "metadata": {},
     "output_type": "execute_result"
    }
   ],
   "source": [
    "train_var.shape"
   ]
  },
  {
   "cell_type": "code",
   "execution_count": 20,
   "metadata": {},
   "outputs": [],
   "source": [
    "# reducing to top 300 components\n",
    "scaler = StandardScaler()\n",
    "train_scaled = scaler.fit_transform(train_var)\n",
    "val_scaled = scaler.transform(val_var)\n",
    "test_scaled = scaler.transform(test_var)"
   ]
  },
  {
   "cell_type": "code",
   "execution_count": 21,
   "metadata": {},
   "outputs": [],
   "source": [
    "pca = PCA(n_components=300, random_state=42)\n",
    "train_pca = pca.fit_transform(train_scaled)\n",
    "val_pca = pca.transform(val_scaled)\n",
    "test_pca = pca.transform(test_scaled)"
   ]
  },
  {
   "cell_type": "code",
   "execution_count": 22,
   "metadata": {},
   "outputs": [
    {
     "data": {
      "text/plain": [
       "(30000, 300)"
      ]
     },
     "execution_count": 22,
     "metadata": {},
     "output_type": "execute_result"
    }
   ],
   "source": [
    "train_pca.shape"
   ]
  },
  {
   "cell_type": "code",
   "execution_count": 23,
   "metadata": {},
   "outputs": [
    {
     "data": {
      "text/html": [
       "<style>#sk-container-id-1 {color: black;}#sk-container-id-1 pre{padding: 0;}#sk-container-id-1 div.sk-toggleable {background-color: white;}#sk-container-id-1 label.sk-toggleable__label {cursor: pointer;display: block;width: 100%;margin-bottom: 0;padding: 0.3em;box-sizing: border-box;text-align: center;}#sk-container-id-1 label.sk-toggleable__label-arrow:before {content: \"▸\";float: left;margin-right: 0.25em;color: #696969;}#sk-container-id-1 label.sk-toggleable__label-arrow:hover:before {color: black;}#sk-container-id-1 div.sk-estimator:hover label.sk-toggleable__label-arrow:before {color: black;}#sk-container-id-1 div.sk-toggleable__content {max-height: 0;max-width: 0;overflow: hidden;text-align: left;background-color: #f0f8ff;}#sk-container-id-1 div.sk-toggleable__content pre {margin: 0.2em;color: black;border-radius: 0.25em;background-color: #f0f8ff;}#sk-container-id-1 input.sk-toggleable__control:checked~div.sk-toggleable__content {max-height: 200px;max-width: 100%;overflow: auto;}#sk-container-id-1 input.sk-toggleable__control:checked~label.sk-toggleable__label-arrow:before {content: \"▾\";}#sk-container-id-1 div.sk-estimator input.sk-toggleable__control:checked~label.sk-toggleable__label {background-color: #d4ebff;}#sk-container-id-1 div.sk-label input.sk-toggleable__control:checked~label.sk-toggleable__label {background-color: #d4ebff;}#sk-container-id-1 input.sk-hidden--visually {border: 0;clip: rect(1px 1px 1px 1px);clip: rect(1px, 1px, 1px, 1px);height: 1px;margin: -1px;overflow: hidden;padding: 0;position: absolute;width: 1px;}#sk-container-id-1 div.sk-estimator {font-family: monospace;background-color: #f0f8ff;border: 1px dotted black;border-radius: 0.25em;box-sizing: border-box;margin-bottom: 0.5em;}#sk-container-id-1 div.sk-estimator:hover {background-color: #d4ebff;}#sk-container-id-1 div.sk-parallel-item::after {content: \"\";width: 100%;border-bottom: 1px solid gray;flex-grow: 1;}#sk-container-id-1 div.sk-label:hover label.sk-toggleable__label {background-color: #d4ebff;}#sk-container-id-1 div.sk-serial::before {content: \"\";position: absolute;border-left: 1px solid gray;box-sizing: border-box;top: 0;bottom: 0;left: 50%;z-index: 0;}#sk-container-id-1 div.sk-serial {display: flex;flex-direction: column;align-items: center;background-color: white;padding-right: 0.2em;padding-left: 0.2em;position: relative;}#sk-container-id-1 div.sk-item {position: relative;z-index: 1;}#sk-container-id-1 div.sk-parallel {display: flex;align-items: stretch;justify-content: center;background-color: white;position: relative;}#sk-container-id-1 div.sk-item::before, #sk-container-id-1 div.sk-parallel-item::before {content: \"\";position: absolute;border-left: 1px solid gray;box-sizing: border-box;top: 0;bottom: 0;left: 50%;z-index: -1;}#sk-container-id-1 div.sk-parallel-item {display: flex;flex-direction: column;z-index: 1;position: relative;background-color: white;}#sk-container-id-1 div.sk-parallel-item:first-child::after {align-self: flex-end;width: 50%;}#sk-container-id-1 div.sk-parallel-item:last-child::after {align-self: flex-start;width: 50%;}#sk-container-id-1 div.sk-parallel-item:only-child::after {width: 0;}#sk-container-id-1 div.sk-dashed-wrapped {border: 1px dashed gray;margin: 0 0.4em 0.5em 0.4em;box-sizing: border-box;padding-bottom: 0.4em;background-color: white;}#sk-container-id-1 div.sk-label label {font-family: monospace;font-weight: bold;display: inline-block;line-height: 1.2em;}#sk-container-id-1 div.sk-label-container {text-align: center;}#sk-container-id-1 div.sk-container {/* jupyter's `normalize.less` sets `[hidden] { display: none; }` but bootstrap.min.css set `[hidden] { display: none !important; }` so we also need the `!important` here to be able to override the default hidden behavior on the sphinx rendered scikit-learn.org. See: https://github.com/scikit-learn/scikit-learn/issues/21755 */display: inline-block !important;position: relative;}#sk-container-id-1 div.sk-text-repr-fallback {display: none;}</style><div id=\"sk-container-id-1\" class=\"sk-top-container\"><div class=\"sk-text-repr-fallback\"><pre>SVC(C=10, random_state=42)</pre><b>In a Jupyter environment, please rerun this cell to show the HTML representation or trust the notebook. <br />On GitHub, the HTML representation is unable to render, please try loading this page with nbviewer.org.</b></div><div class=\"sk-container\" hidden><div class=\"sk-item\"><div class=\"sk-estimator sk-toggleable\"><input class=\"sk-toggleable__control sk-hidden--visually\" id=\"sk-estimator-id-1\" type=\"checkbox\" checked><label for=\"sk-estimator-id-1\" class=\"sk-toggleable__label sk-toggleable__label-arrow\">SVC</label><div class=\"sk-toggleable__content\"><pre>SVC(C=10, random_state=42)</pre></div></div></div></div></div>"
      ],
      "text/plain": [
       "SVC(C=10, random_state=42)"
      ]
     },
     "execution_count": 23,
     "metadata": {},
     "output_type": "execute_result"
    }
   ],
   "source": [
    "from sklearn.svm import SVC\n",
    "\n",
    "\n",
    "\n",
    "svm_model = SVC(kernel='rbf', C=10, gamma='scale', random_state=42)\n",
    "svm_model.fit(train_pca, train_labels_encoded)\n",
    "\n"
   ]
  },
  {
   "cell_type": "code",
   "execution_count": 24,
   "metadata": {},
   "outputs": [
    {
     "name": "stdout",
     "output_type": "stream",
     "text": [
      "🎯 Validation Accuracy: 56.35%\n"
     ]
    }
   ],
   "source": [
    "from sklearn.metrics import accuracy_score\n",
    "\n",
    "val_preds = svm_model.predict(val_pca)\n",
    "val_acc = accuracy_score(val_labels_encoded, val_preds)\n",
    "print(f\"🎯 Validation Accuracy: {val_acc*100:.2f}%\")\n"
   ]
  },
  {
   "cell_type": "code",
   "execution_count": null,
   "metadata": {},
   "outputs": [
    {
     "data": {
      "text/plain": [
       "['svm_pca_model_56.35.pkl']"
      ]
     },
     "execution_count": 26,
     "metadata": {},
     "output_type": "execute_result"
    }
   ],
   "source": [
    "import joblib\n",
    "\n",
    "joblib.dump(svm_model, f'svm_pca_model_{val_acc*100:.2f}.pkl')"
   ]
  },
  {
   "cell_type": "code",
   "execution_count": null,
   "metadata": {},
   "outputs": [],
   "source": []
  },
  {
   "cell_type": "code",
   "execution_count": null,
   "metadata": {},
   "outputs": [],
   "source": [
    "import joblib\n",
    "\n",
    "svm_model = joblib.load(f'svm_pca_model_{val_acc*100:.2f}.pkl')\n"
   ]
  },
  {
   "cell_type": "code",
   "execution_count": null,
   "metadata": {},
   "outputs": [],
   "source": [
    "from sklearn.pipeline import Pipeline\n",
    "from sklearn.model_selection import GridSearchCV\n",
    "\n"
   ]
  },
  {
   "cell_type": "code",
   "execution_count": 30,
   "metadata": {},
   "outputs": [
    {
     "name": "stdout",
     "output_type": "stream",
     "text": [
      "Fitting 3 folds for each of 9 candidates, totalling 27 fits\n"
     ]
    },
    {
     "data": {
      "text/html": [
       "<style>#sk-container-id-2 {color: black;}#sk-container-id-2 pre{padding: 0;}#sk-container-id-2 div.sk-toggleable {background-color: white;}#sk-container-id-2 label.sk-toggleable__label {cursor: pointer;display: block;width: 100%;margin-bottom: 0;padding: 0.3em;box-sizing: border-box;text-align: center;}#sk-container-id-2 label.sk-toggleable__label-arrow:before {content: \"▸\";float: left;margin-right: 0.25em;color: #696969;}#sk-container-id-2 label.sk-toggleable__label-arrow:hover:before {color: black;}#sk-container-id-2 div.sk-estimator:hover label.sk-toggleable__label-arrow:before {color: black;}#sk-container-id-2 div.sk-toggleable__content {max-height: 0;max-width: 0;overflow: hidden;text-align: left;background-color: #f0f8ff;}#sk-container-id-2 div.sk-toggleable__content pre {margin: 0.2em;color: black;border-radius: 0.25em;background-color: #f0f8ff;}#sk-container-id-2 input.sk-toggleable__control:checked~div.sk-toggleable__content {max-height: 200px;max-width: 100%;overflow: auto;}#sk-container-id-2 input.sk-toggleable__control:checked~label.sk-toggleable__label-arrow:before {content: \"▾\";}#sk-container-id-2 div.sk-estimator input.sk-toggleable__control:checked~label.sk-toggleable__label {background-color: #d4ebff;}#sk-container-id-2 div.sk-label input.sk-toggleable__control:checked~label.sk-toggleable__label {background-color: #d4ebff;}#sk-container-id-2 input.sk-hidden--visually {border: 0;clip: rect(1px 1px 1px 1px);clip: rect(1px, 1px, 1px, 1px);height: 1px;margin: -1px;overflow: hidden;padding: 0;position: absolute;width: 1px;}#sk-container-id-2 div.sk-estimator {font-family: monospace;background-color: #f0f8ff;border: 1px dotted black;border-radius: 0.25em;box-sizing: border-box;margin-bottom: 0.5em;}#sk-container-id-2 div.sk-estimator:hover {background-color: #d4ebff;}#sk-container-id-2 div.sk-parallel-item::after {content: \"\";width: 100%;border-bottom: 1px solid gray;flex-grow: 1;}#sk-container-id-2 div.sk-label:hover label.sk-toggleable__label {background-color: #d4ebff;}#sk-container-id-2 div.sk-serial::before {content: \"\";position: absolute;border-left: 1px solid gray;box-sizing: border-box;top: 0;bottom: 0;left: 50%;z-index: 0;}#sk-container-id-2 div.sk-serial {display: flex;flex-direction: column;align-items: center;background-color: white;padding-right: 0.2em;padding-left: 0.2em;position: relative;}#sk-container-id-2 div.sk-item {position: relative;z-index: 1;}#sk-container-id-2 div.sk-parallel {display: flex;align-items: stretch;justify-content: center;background-color: white;position: relative;}#sk-container-id-2 div.sk-item::before, #sk-container-id-2 div.sk-parallel-item::before {content: \"\";position: absolute;border-left: 1px solid gray;box-sizing: border-box;top: 0;bottom: 0;left: 50%;z-index: -1;}#sk-container-id-2 div.sk-parallel-item {display: flex;flex-direction: column;z-index: 1;position: relative;background-color: white;}#sk-container-id-2 div.sk-parallel-item:first-child::after {align-self: flex-end;width: 50%;}#sk-container-id-2 div.sk-parallel-item:last-child::after {align-self: flex-start;width: 50%;}#sk-container-id-2 div.sk-parallel-item:only-child::after {width: 0;}#sk-container-id-2 div.sk-dashed-wrapped {border: 1px dashed gray;margin: 0 0.4em 0.5em 0.4em;box-sizing: border-box;padding-bottom: 0.4em;background-color: white;}#sk-container-id-2 div.sk-label label {font-family: monospace;font-weight: bold;display: inline-block;line-height: 1.2em;}#sk-container-id-2 div.sk-label-container {text-align: center;}#sk-container-id-2 div.sk-container {/* jupyter's `normalize.less` sets `[hidden] { display: none; }` but bootstrap.min.css set `[hidden] { display: none !important; }` so we also need the `!important` here to be able to override the default hidden behavior on the sphinx rendered scikit-learn.org. See: https://github.com/scikit-learn/scikit-learn/issues/21755 */display: inline-block !important;position: relative;}#sk-container-id-2 div.sk-text-repr-fallback {display: none;}</style><div id=\"sk-container-id-2\" class=\"sk-top-container\"><div class=\"sk-text-repr-fallback\"><pre>GridSearchCV(cv=3, estimator=SVC(probability=True), n_jobs=-1,\n",
       "             param_grid={&#x27;C&#x27;: [1, 10, 50], &#x27;gamma&#x27;: [&#x27;scale&#x27;, 0.01, 0.001],\n",
       "                         &#x27;kernel&#x27;: [&#x27;rbf&#x27;]},\n",
       "             scoring=&#x27;accuracy&#x27;, verbose=2)</pre><b>In a Jupyter environment, please rerun this cell to show the HTML representation or trust the notebook. <br />On GitHub, the HTML representation is unable to render, please try loading this page with nbviewer.org.</b></div><div class=\"sk-container\" hidden><div class=\"sk-item sk-dashed-wrapped\"><div class=\"sk-label-container\"><div class=\"sk-label sk-toggleable\"><input class=\"sk-toggleable__control sk-hidden--visually\" id=\"sk-estimator-id-2\" type=\"checkbox\" ><label for=\"sk-estimator-id-2\" class=\"sk-toggleable__label sk-toggleable__label-arrow\">GridSearchCV</label><div class=\"sk-toggleable__content\"><pre>GridSearchCV(cv=3, estimator=SVC(probability=True), n_jobs=-1,\n",
       "             param_grid={&#x27;C&#x27;: [1, 10, 50], &#x27;gamma&#x27;: [&#x27;scale&#x27;, 0.01, 0.001],\n",
       "                         &#x27;kernel&#x27;: [&#x27;rbf&#x27;]},\n",
       "             scoring=&#x27;accuracy&#x27;, verbose=2)</pre></div></div></div><div class=\"sk-parallel\"><div class=\"sk-parallel-item\"><div class=\"sk-item\"><div class=\"sk-label-container\"><div class=\"sk-label sk-toggleable\"><input class=\"sk-toggleable__control sk-hidden--visually\" id=\"sk-estimator-id-3\" type=\"checkbox\" ><label for=\"sk-estimator-id-3\" class=\"sk-toggleable__label sk-toggleable__label-arrow\">estimator: SVC</label><div class=\"sk-toggleable__content\"><pre>SVC(probability=True)</pre></div></div></div><div class=\"sk-serial\"><div class=\"sk-item\"><div class=\"sk-estimator sk-toggleable\"><input class=\"sk-toggleable__control sk-hidden--visually\" id=\"sk-estimator-id-4\" type=\"checkbox\" ><label for=\"sk-estimator-id-4\" class=\"sk-toggleable__label sk-toggleable__label-arrow\">SVC</label><div class=\"sk-toggleable__content\"><pre>SVC(probability=True)</pre></div></div></div></div></div></div></div></div></div></div>"
      ],
      "text/plain": [
       "GridSearchCV(cv=3, estimator=SVC(probability=True), n_jobs=-1,\n",
       "             param_grid={'C': [1, 10, 50], 'gamma': ['scale', 0.01, 0.001],\n",
       "                         'kernel': ['rbf']},\n",
       "             scoring='accuracy', verbose=2)"
      ]
     },
     "execution_count": 30,
     "metadata": {},
     "output_type": "execute_result"
    }
   ],
   "source": [
    "param_grid = {\n",
    "    'C': [1, 10, 50],\n",
    "    'gamma': ['scale', 0.01, 0.001],\n",
    "    'kernel': ['rbf']\n",
    "}\n",
    "\n",
    "grid = GridSearchCV(\n",
    "    SVC(probability=True),\n",
    "    param_grid,\n",
    "    cv=3,\n",
    "    scoring='accuracy',\n",
    "    verbose=2,\n",
    "    n_jobs=-1\n",
    ")\n",
    "\n",
    "grid.fit(train_pca, train_labels_encoded)"
   ]
  },
  {
   "cell_type": "code",
   "execution_count": null,
   "metadata": {},
   "outputs": [
    {
     "name": "stdout",
     "output_type": "stream",
     "text": [
      "Best Params: {'C': 10, 'gamma': 'scale', 'kernel': 'rbf'}\n",
      "Best Accuracy: 47.936666666666675\n",
      "Validation Accuracy: 56.35\n"
     ]
    }
   ],
   "source": [
    "print(\"Best Params:\", grid.best_params_)\n",
    "print(\"Best Accuracy:\", grid.best_score_ * 100)\n",
    "\n",
    "\n",
    "val_preds = grid.best_estimator_.predict(val_pca)\n",
    "from sklearn.metrics import accuracy_score\n",
    "print(\"Validation Accuracy:\", accuracy_score(val_labels_encoded, val_preds) * 100)\n"
   ]
  },
  {
   "cell_type": "code",
   "execution_count": null,
   "metadata": {},
   "outputs": [],
   "source": []
  },
  {
   "cell_type": "code",
   "execution_count": null,
   "metadata": {},
   "outputs": [
    {
     "data": {
      "text/plain": [
       "['label_encoder.pkl']"
      ]
     },
     "execution_count": 32,
     "metadata": {},
     "output_type": "execute_result"
    }
   ],
   "source": [
    "\n",
    "joblib.dump(svm_model, 'final_svm_model.pkl')\n",
    "\n",
    "joblib.dump(scaler, 'scaler.pkl')\n",
    "joblib.dump(pca, 'pca.pkl')\n",
    "\n",
    "joblib.dump(label_encoder, 'label_encoder.pkl')\n"
   ]
  },
  {
   "cell_type": "code",
   "execution_count": 54,
   "metadata": {},
   "outputs": [
    {
     "data": {
      "text/plain": [
       "['selector.pkl']"
      ]
     },
     "execution_count": 54,
     "metadata": {},
     "output_type": "execute_result"
    }
   ],
   "source": [
    "joblib.dump(selector, 'selector.pkl')"
   ]
  },
  {
   "cell_type": "markdown",
   "metadata": {},
   "source": [
    "<h1>MOdel is trained and even the hyper parameters were also tuned beleving it would increase the model accuracy... \n",
    "and after all these i have this SVM model as a final model."
   ]
  },
  {
   "cell_type": "markdown",
   "metadata": {},
   "source": [
    "# Inference"
   ]
  },
  {
   "cell_type": "code",
   "execution_count": null,
   "metadata": {},
   "outputs": [],
   "source": [
    "\n",
    "\n",
    "scaler = joblib.load(\"./model/scaler.pkl\")\n",
    "pca = joblib.load(\"./model/pca.pkl\")\n",
    "svm_model = joblib.load(\"./model/final_svm_model.pkl\")\n",
    "label_encoder = joblib.load(\"./model/label_encoder.pkl\")\n",
    "selector = joblib.load(\"./model/selector.pkl\")\n",
    "\n",
    "\n",
    "\n",
    "def predict_animal_species(image_path):\n",
    "    \n",
    "    image = cv2.imread(image_path)\n",
    "    image = cv2.resize(image, (200, 200))\n",
    "\n",
    "    features = extract_features(image)\n",
    "    features = np.nan_to_num(features)\n",
    "\n",
    "    features_selected = selector.transform([features]) \n",
    "\n",
    "    features_scaled = scaler.transform(features_selected)\n",
    "\n",
    "    features_pca = pca.transform(features_scaled)\n",
    "\n",
    "    pred_encoded = svm_model.predict(features_pca)[0]\n",
    "    return label_encoder.inverse_transform([pred_encoded])[0]\n"
   ]
  },
  {
   "cell_type": "code",
   "execution_count": 18,
   "metadata": {},
   "outputs": [],
   "source": [
    "res = predict_animal_species(\"image.png\")"
   ]
  },
  {
   "cell_type": "code",
   "execution_count": 19,
   "metadata": {},
   "outputs": [
    {
     "data": {
      "text/plain": [
       "'Elephant'"
      ]
     },
     "execution_count": 19,
     "metadata": {},
     "output_type": "execute_result"
    }
   ],
   "source": [
    "res"
   ]
  },
  {
   "cell_type": "code",
   "execution_count": null,
   "metadata": {},
   "outputs": [],
   "source": []
  }
 ],
 "metadata": {
  "kernelspec": {
   "display_name": "Python 3",
   "language": "python",
   "name": "python3"
  },
  "language_info": {
   "codemirror_mode": {
    "name": "ipython",
    "version": 3
   },
   "file_extension": ".py",
   "mimetype": "text/x-python",
   "name": "python",
   "nbconvert_exporter": "python",
   "pygments_lexer": "ipython3",
   "version": "3.11.5"
  }
 },
 "nbformat": 4,
 "nbformat_minor": 2
}
